{
 "cells": [
  {
   "cell_type": "code",
   "execution_count": 10,
   "metadata": {},
   "outputs": [],
   "source": [
    "import json\n",
    "import pandas as pd\n",
    "import csv\n",
    "import datetime\n",
    "import dateutil.parser\n",
    "import os\n",
    "import tweepy\n",
    "from dotenv import load_dotenv"
   ]
  },
  {
   "cell_type": "code",
   "execution_count": 11,
   "metadata": {},
   "outputs": [
    {
     "data": {
      "text/plain": [
       "True"
      ]
     },
     "execution_count": 11,
     "metadata": {},
     "output_type": "execute_result"
    }
   ],
   "source": [
    "load_dotenv()"
   ]
  },
  {
   "cell_type": "code",
   "execution_count": 14,
   "metadata": {},
   "outputs": [],
   "source": [
    "api_key = os.getenv(\"my_API_key\")\n",
    "api_secret = os.getenv(\"my_API_secret\")\n",
    "bearer = os.getenv(\"my_BEARER_token\")\n",
    "access_token = os.getenv(\"my_ACCESS_token\")\n",
    "access_secret = os.getenv(\"my_ACCESS_secret\")"
   ]
  },
  {
   "cell_type": "code",
   "execution_count": 21,
   "metadata": {},
   "outputs": [],
   "source": [
    "client = tweepy.Client(bearer)"
   ]
  },
  {
   "cell_type": "code",
   "execution_count": 40,
   "metadata": {},
   "outputs": [],
   "source": [
    "query = 'Elon Musk -is:retweet'"
   ]
  },
  {
   "cell_type": "code",
   "execution_count": 93,
   "metadata": {},
   "outputs": [],
   "source": [
    "response = client.search_recent_tweets(query=query, expansions = ['author_id'])"
   ]
  },
  {
   "cell_type": "code",
   "execution_count": 101,
   "metadata": {},
   "outputs": [
    {
     "data": {
      "text/plain": [
       "'Toni'"
      ]
     },
     "execution_count": 101,
     "metadata": {},
     "output_type": "execute_result"
    }
   ],
   "source": [
    "response.includes[\"users\"][0][\"name\"]"
   ]
  },
  {
   "cell_type": "code",
   "execution_count": 94,
   "metadata": {},
   "outputs": [
    {
     "data": {
      "text/plain": [
       "{'users': [<User id=723498527121264640 name=Toni username=outfoxed_toni>,\n",
       "  <User id=1532313379896950784 name=Marjan 🦋 username=marjan_ns>,\n",
       "  <User id=710812601 name=flesheater username=nakiro1>,\n",
       "  <User id=8841372 name=Business Insider Tech username=BITech>,\n",
       "  <User id=828965277886988288 name=John Raftery username=johnjraftery>,\n",
       "  <User id=171299971 name=Caraota Digital username=CaraotaDigital>,\n",
       "  <User id=1516605150097555460 name=Miriam Garcia username=MiriamG36136008>,\n",
       "  <User id=1136857997534060544 name=School Entrance Tests dot com username=TestsSchool>,\n",
       "  <User id=1348607467845005312 name=Crypto News username=SirDuCutj>,\n",
       "  <User id=28824136 name=Ash Paul username=pash22>]}"
      ]
     },
     "execution_count": 94,
     "metadata": {},
     "output_type": "execute_result"
    }
   ],
   "source": [
    "response.includes"
   ]
  },
  {
   "cell_type": "markdown",
   "metadata": {},
   "source": [
    "response.includes['users'] returns a 'list' of \"class 'tweepy.user.User'\", who's different data can be accessed using their field names\n",
    "\n",
    "The following creates a dictionary of \"users\" by taking the 'id' as the key and the tweey.user.User as the value for each key."
   ]
  },
  {
   "cell_type": "code",
   "execution_count": 95,
   "metadata": {},
   "outputs": [
    {
     "data": {
      "text/plain": [
       "{723498527121264640: <User id=723498527121264640 name=Toni username=outfoxed_toni>,\n",
       " 1532313379896950784: <User id=1532313379896950784 name=Marjan 🦋 username=marjan_ns>,\n",
       " 710812601: <User id=710812601 name=flesheater username=nakiro1>,\n",
       " 8841372: <User id=8841372 name=Business Insider Tech username=BITech>,\n",
       " 828965277886988288: <User id=828965277886988288 name=John Raftery username=johnjraftery>,\n",
       " 171299971: <User id=171299971 name=Caraota Digital username=CaraotaDigital>,\n",
       " 1516605150097555460: <User id=1516605150097555460 name=Miriam Garcia username=MiriamG36136008>,\n",
       " 1136857997534060544: <User id=1136857997534060544 name=School Entrance Tests dot com username=TestsSchool>,\n",
       " 1348607467845005312: <User id=1348607467845005312 name=Crypto News username=SirDuCutj>,\n",
       " 28824136: <User id=28824136 name=Ash Paul username=pash22>}"
      ]
     },
     "execution_count": 95,
     "metadata": {},
     "output_type": "execute_result"
    }
   ],
   "source": [
    "users = {u['id'] : u for u in response.includes['users']}\n",
    "users"
   ]
  },
  {
   "cell_type": "markdown",
   "metadata": {},
   "source": [
    "Now combining the username from the users dictionary with response.data "
   ]
  },
  {
   "cell_type": "code",
   "execution_count": 96,
   "metadata": {},
   "outputs": [
    {
     "name": "stdout",
     "output_type": "stream",
     "text": [
      "outfoxed_toni -> @elonmusk What a joke, when Elon Musk has to pretend….😂😂\n",
      "\n",
      "marjan_ns -> @pouriazeraati @elonmusk It's about YOU!\n",
      "One of killed children in Iran about a guestion: Who is happy? answered : Me and Elon Musk! His name was #KianPirfalak 10 years old. \n",
      "Really are you happy? \n",
      "#MahsaAmini\n",
      "\n",
      "nakiro1 -> @elonmusk Fire Elon Musk. I hear that guy's really running twitter into the ground but I also hear, that's the whole point. So maybe don't Fire him. Maybe give him a raise &amp; healthy pat on the back. \n",
      "Can i million dollars when you get your raise? It would really help a brother out.\n",
      "\n",
      "BITech -> I spent a week on Mastodon, the social media platform some are turning to as they abandon Elon Musk's Twitter. This is what it was like. https://t.co/gRpGttWSZd\n",
      "\n",
      "johnjraftery -> “Musk, we’re always told, is a genius. Maybe so, but sometimes you have to be smart enough to realize you’re out of your depth.”\n",
      "\n",
      "Insightful piece by ⁦@JamesSurowiecki⁩ . https://t.co/qvACTauknG\n",
      "\n",
      "CaraotaDigital -> #Tendencias | Elon Musk cerró todas las oficinas de Twitter tras renuncia masiva, teme represalias .-  💥 https://t.co/pLP3fCTinr\n",
      "\n",
      "MiriamG36136008 -> Infelizmente é muito dinheiro para uma pessoa só daí não sabe o que fazer aí começa a fazer maldades quando eu não sabia das atitudes desse tal Elon musk eu achava ele até bonito para mim agora ele tem a cara do demônio https://t.co/rPEjAAGSj4\n",
      "\n",
      "TestsSchool -> https://t.co/6BYZd47i1A https://t.co/f5q2iJYr57\n",
      "\n",
      "SirDuCutj -> #crypto #bitcoin #altcoin #NFTs #btc #eth #xrp\n",
      "Will Trump Be Back on Twitter? Elon Musk Asks Twitter Users To Decide in a Poll\n",
      "Source : CoinGape\n",
      "Link : https://t.co/cwesUTHNLa\n",
      "For latest crypto news press Follow!\n",
      "\n",
      "pash22 -> I Was the Head of Trust and Safety at Twitter: This Is What Could Become of It, writes @yoyoel in @nytimes\n",
      "https://t.co/lRmbjwO4FF\n",
      "\n"
     ]
    }
   ],
   "source": [
    "for tweet in response.data:\n",
    "    if(tweet.author_id in users.keys()):\n",
    "        print(f\"{users[tweet.author_id]} -> {tweet.text}\")\n",
    "        print()    "
   ]
  },
  {
   "cell_type": "code",
   "execution_count": 137,
   "metadata": {},
   "outputs": [],
   "source": [
    "coloums = [\"Tweet_ID\", \"Created at\", \"tweet\"]\n",
    "data = []"
   ]
  },
  {
   "cell_type": "code",
   "execution_count": 138,
   "metadata": {},
   "outputs": [],
   "source": [
    "tweets = tweepy.Paginator(client.search_recent_tweets, query=query, tweet_fields=['context_annotations', 'created_at'], max_results=100).flatten(limit=1000)"
   ]
  },
  {
   "cell_type": "code",
   "execution_count": 139,
   "metadata": {},
   "outputs": [],
   "source": [
    "for tweet in tweets:\n",
    "    data.append([tweet.id, tweet.created_at, tweet.text])"
   ]
  },
  {
   "cell_type": "code",
   "execution_count": 140,
   "metadata": {},
   "outputs": [],
   "source": [
    "df = pd.DataFrame(data, columns=coloums)"
   ]
  },
  {
   "cell_type": "code",
   "execution_count": 141,
   "metadata": {},
   "outputs": [],
   "source": [
    "df.to_csv(\"tweets.csv\")"
   ]
  }
 ],
 "metadata": {
  "kernelspec": {
   "display_name": "Python 3.10.1 64-bit",
   "language": "python",
   "name": "python3"
  },
  "language_info": {
   "codemirror_mode": {
    "name": "ipython",
    "version": 3
   },
   "file_extension": ".py",
   "mimetype": "text/x-python",
   "name": "python",
   "nbconvert_exporter": "python",
   "pygments_lexer": "ipython3",
   "version": "3.10.1"
  },
  "orig_nbformat": 4,
  "vscode": {
   "interpreter": {
    "hash": "58164309946c612fc507d0d6d8699a715151dc4863980eabb281ce3069677ab7"
   }
  }
 },
 "nbformat": 4,
 "nbformat_minor": 2
}
