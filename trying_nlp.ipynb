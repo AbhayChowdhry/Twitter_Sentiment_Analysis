{
 "cells": [
  {
   "cell_type": "code",
   "execution_count": 2,
   "metadata": {},
   "outputs": [],
   "source": [
    "import re  # For preprocessing\n",
    "import pandas as pd  # For data handling\n",
    "from time import time  # To time our operations\n",
    "from collections import defaultdict  # For word frequency\n",
    "\n",
    "import spacy  # For preprocessing\n",
    "\n",
    "import logging"
   ]
  },
  {
   "cell_type": "code",
   "execution_count": 3,
   "metadata": {},
   "outputs": [],
   "source": [
    "df = pd.read_csv(\"tweets.csv\")"
   ]
  },
  {
   "cell_type": "code",
   "execution_count": 5,
   "metadata": {},
   "outputs": [
    {
     "data": {
      "text/plain": [
       "(1000, 4)"
      ]
     },
     "execution_count": 5,
     "metadata": {},
     "output_type": "execute_result"
    }
   ],
   "source": [
    "df.shape"
   ]
  },
  {
   "cell_type": "code",
   "execution_count": 6,
   "metadata": {},
   "outputs": [
    {
     "data": {
      "text/html": [
       "<div>\n",
       "<style scoped>\n",
       "    .dataframe tbody tr th:only-of-type {\n",
       "        vertical-align: middle;\n",
       "    }\n",
       "\n",
       "    .dataframe tbody tr th {\n",
       "        vertical-align: top;\n",
       "    }\n",
       "\n",
       "    .dataframe thead th {\n",
       "        text-align: right;\n",
       "    }\n",
       "</style>\n",
       "<table border=\"1\" class=\"dataframe\">\n",
       "  <thead>\n",
       "    <tr style=\"text-align: right;\">\n",
       "      <th></th>\n",
       "      <th>Unnamed: 0</th>\n",
       "      <th>Tweet_ID</th>\n",
       "      <th>Created at</th>\n",
       "      <th>tweet</th>\n",
       "    </tr>\n",
       "  </thead>\n",
       "  <tbody>\n",
       "    <tr>\n",
       "      <th>0</th>\n",
       "      <td>0</td>\n",
       "      <td>1593931497567932416</td>\n",
       "      <td>2022-11-19 11:37:37+00:00</td>\n",
       "      <td>- papà, come ha fatto Elon Musk a diventare l'...</td>\n",
       "    </tr>\n",
       "    <tr>\n",
       "      <th>1</th>\n",
       "      <td>1</td>\n",
       "      <td>1593931494426304512</td>\n",
       "      <td>2022-11-19 11:37:36+00:00</td>\n",
       "      <td>Elon Musk zings AOC after she thanks Twitter w...</td>\n",
       "    </tr>\n",
       "    <tr>\n",
       "      <th>2</th>\n",
       "      <td>2</td>\n",
       "      <td>1593931487476256770</td>\n",
       "      <td>2022-11-19 11:37:35+00:00</td>\n",
       "      <td>@GuusKuijer Guus moet wel een genie zijn om ie...</td>\n",
       "    </tr>\n",
       "    <tr>\n",
       "      <th>3</th>\n",
       "      <td>3</td>\n",
       "      <td>1593931484397707264</td>\n",
       "      <td>2022-11-19 11:37:34+00:00</td>\n",
       "      <td>Le piden a Elon Musk que reinstaure a los doct...</td>\n",
       "    </tr>\n",
       "    <tr>\n",
       "      <th>4</th>\n",
       "      <td>4</td>\n",
       "      <td>1593931462562152450</td>\n",
       "      <td>2022-11-19 11:37:29+00:00</td>\n",
       "      <td>Elon Musk restabelece contas banidas do Twitte...</td>\n",
       "    </tr>\n",
       "  </tbody>\n",
       "</table>\n",
       "</div>"
      ],
      "text/plain": [
       "   Unnamed: 0             Tweet_ID                 Created at  \\\n",
       "0           0  1593931497567932416  2022-11-19 11:37:37+00:00   \n",
       "1           1  1593931494426304512  2022-11-19 11:37:36+00:00   \n",
       "2           2  1593931487476256770  2022-11-19 11:37:35+00:00   \n",
       "3           3  1593931484397707264  2022-11-19 11:37:34+00:00   \n",
       "4           4  1593931462562152450  2022-11-19 11:37:29+00:00   \n",
       "\n",
       "                                               tweet  \n",
       "0  - papà, come ha fatto Elon Musk a diventare l'...  \n",
       "1  Elon Musk zings AOC after she thanks Twitter w...  \n",
       "2  @GuusKuijer Guus moet wel een genie zijn om ie...  \n",
       "3  Le piden a Elon Musk que reinstaure a los doct...  \n",
       "4  Elon Musk restabelece contas banidas do Twitte...  "
      ]
     },
     "execution_count": 6,
     "metadata": {},
     "output_type": "execute_result"
    }
   ],
   "source": [
    "df.head()"
   ]
  }
 ],
 "metadata": {
  "kernelspec": {
   "display_name": "Python 3.10.1 64-bit",
   "language": "python",
   "name": "python3"
  },
  "language_info": {
   "codemirror_mode": {
    "name": "ipython",
    "version": 3
   },
   "file_extension": ".py",
   "mimetype": "text/x-python",
   "name": "python",
   "nbconvert_exporter": "python",
   "pygments_lexer": "ipython3",
   "version": "3.10.1"
  },
  "orig_nbformat": 4,
  "vscode": {
   "interpreter": {
    "hash": "58164309946c612fc507d0d6d8699a715151dc4863980eabb281ce3069677ab7"
   }
  }
 },
 "nbformat": 4,
 "nbformat_minor": 2
}
